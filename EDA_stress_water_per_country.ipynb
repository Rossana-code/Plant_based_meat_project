{
 "cells": [
  {
   "cell_type": "markdown",
   "metadata": {},
   "source": [
    "<span style=\"font-size:3em;\"> Analysis of the global plant-based meat market </span> "
   ]
  },
  {
   "cell_type": "markdown",
   "metadata": {},
   "source": [
    "This is an analysis of the global plant-based meat market, that take into consideration the following three axes for each country: water shortages, the meat consumption in relation to the production and the percentage of vegetarians, creating a coefficient to predict which country will be more suited to the market. \n",
    "\n",
    "The following notebook is the cleaning and prep of the water shortages part. \n",
    "This CSV file, along to the other parts of the analysis, has been used to build a dashbord in Tableau, that you can find here:\n",
    "https://public.tableau.com/app/profile/rossana.coro/viz/VegetalMeatProject/Accueil"
   ]
  },
  {
   "cell_type": "code",
   "execution_count": 94,
   "metadata": {},
   "outputs": [],
   "source": [
    "import pandas as pd\n",
    "import plotly.io as pio\n",
    "import plotly.express as px\n",
    "import plotly.graph_objects as go\n",
    "import numpy as np\n",
    "import seaborn as sns"
   ]
  },
  {
   "cell_type": "code",
   "execution_count": 95,
   "metadata": {},
   "outputs": [
    {
     "data": {
      "text/html": [
       "<div>\n",
       "<style scoped>\n",
       "    .dataframe tbody tr th:only-of-type {\n",
       "        vertical-align: middle;\n",
       "    }\n",
       "\n",
       "    .dataframe tbody tr th {\n",
       "        vertical-align: top;\n",
       "    }\n",
       "\n",
       "    .dataframe thead th {\n",
       "        text-align: right;\n",
       "    }\n",
       "</style>\n",
       "<table border=\"1\" class=\"dataframe\">\n",
       "  <thead>\n",
       "    <tr style=\"text-align: right;\">\n",
       "      <th></th>\n",
       "      <th>gid_0</th>\n",
       "      <th>name_0</th>\n",
       "      <th>indicator_name</th>\n",
       "      <th>weight</th>\n",
       "      <th>score</th>\n",
       "      <th>score_ranked</th>\n",
       "      <th>cat</th>\n",
       "      <th>label</th>\n",
       "      <th>un_region</th>\n",
       "      <th>wb_region</th>\n",
       "    </tr>\n",
       "  </thead>\n",
       "  <tbody>\n",
       "    <tr>\n",
       "      <th>0</th>\n",
       "      <td>ARE</td>\n",
       "      <td>United Arab Emirates</td>\n",
       "      <td>bws</td>\n",
       "      <td>Dom</td>\n",
       "      <td>5.0</td>\n",
       "      <td>5.0</td>\n",
       "      <td>4.0</td>\n",
       "      <td>Extremely High (&gt;80%)</td>\n",
       "      <td>Asia</td>\n",
       "      <td>Middle East &amp; North Africa</td>\n",
       "    </tr>\n",
       "    <tr>\n",
       "      <th>1</th>\n",
       "      <td>ARE</td>\n",
       "      <td>United Arab Emirates</td>\n",
       "      <td>bws</td>\n",
       "      <td>Irr</td>\n",
       "      <td>5.0</td>\n",
       "      <td>5.0</td>\n",
       "      <td>4.0</td>\n",
       "      <td>Extremely High (&gt;80%)</td>\n",
       "      <td>Asia</td>\n",
       "      <td>Middle East &amp; North Africa</td>\n",
       "    </tr>\n",
       "    <tr>\n",
       "      <th>2</th>\n",
       "      <td>BHR</td>\n",
       "      <td>Bahrain</td>\n",
       "      <td>bws</td>\n",
       "      <td>One</td>\n",
       "      <td>5.0</td>\n",
       "      <td>4.5</td>\n",
       "      <td>4.0</td>\n",
       "      <td>Extremely High (&gt;80%)</td>\n",
       "      <td>Asia</td>\n",
       "      <td>Middle East &amp; North Africa</td>\n",
       "    </tr>\n",
       "    <tr>\n",
       "      <th>3</th>\n",
       "      <td>BHR</td>\n",
       "      <td>Bahrain</td>\n",
       "      <td>bws</td>\n",
       "      <td>Tot</td>\n",
       "      <td>5.0</td>\n",
       "      <td>4.5</td>\n",
       "      <td>4.0</td>\n",
       "      <td>Extremely High (&gt;80%)</td>\n",
       "      <td>Asia</td>\n",
       "      <td>Middle East &amp; North Africa</td>\n",
       "    </tr>\n",
       "    <tr>\n",
       "      <th>4</th>\n",
       "      <td>BHR</td>\n",
       "      <td>Bahrain</td>\n",
       "      <td>bws</td>\n",
       "      <td>Dom</td>\n",
       "      <td>5.0</td>\n",
       "      <td>5.0</td>\n",
       "      <td>4.0</td>\n",
       "      <td>Extremely High (&gt;80%)</td>\n",
       "      <td>Asia</td>\n",
       "      <td>Middle East &amp; North Africa</td>\n",
       "    </tr>\n",
       "  </tbody>\n",
       "</table>\n",
       "</div>"
      ],
      "text/plain": [
       "  gid_0                name_0 indicator_name weight  score  score_ranked  cat  \\\n",
       "0   ARE  United Arab Emirates            bws    Dom    5.0           5.0  4.0   \n",
       "1   ARE  United Arab Emirates            bws    Irr    5.0           5.0  4.0   \n",
       "2   BHR               Bahrain            bws    One    5.0           4.5  4.0   \n",
       "3   BHR               Bahrain            bws    Tot    5.0           4.5  4.0   \n",
       "4   BHR               Bahrain            bws    Dom    5.0           5.0  4.0   \n",
       "\n",
       "                   label un_region                   wb_region  \n",
       "0  Extremely High (>80%)      Asia  Middle East & North Africa  \n",
       "1  Extremely High (>80%)      Asia  Middle East & North Africa  \n",
       "2  Extremely High (>80%)      Asia  Middle East & North Africa  \n",
       "3  Extremely High (>80%)      Asia  Middle East & North Africa  \n",
       "4  Extremely High (>80%)      Asia  Middle East & North Africa  "
      ]
     },
     "execution_count": 95,
     "metadata": {},
     "output_type": "execute_result"
    }
   ],
   "source": [
    "#Import csv file from folder\n",
    "dataset_brut = pd.read_excel(\"/Users/losed/OneDrive/Bureau/project_demo_day/stress_water_per_country.xlsx\")\n",
    "dataset_brut.head()"
   ]
  },
  {
   "cell_type": "code",
   "execution_count": 96,
   "metadata": {},
   "outputs": [
    {
     "data": {
      "text/html": [
       "<div>\n",
       "<style scoped>\n",
       "    .dataframe tbody tr th:only-of-type {\n",
       "        vertical-align: middle;\n",
       "    }\n",
       "\n",
       "    .dataframe tbody tr th {\n",
       "        vertical-align: top;\n",
       "    }\n",
       "\n",
       "    .dataframe thead th {\n",
       "        text-align: right;\n",
       "    }\n",
       "</style>\n",
       "<table border=\"1\" class=\"dataframe\">\n",
       "  <thead>\n",
       "    <tr style=\"text-align: right;\">\n",
       "      <th></th>\n",
       "      <th>gid_0</th>\n",
       "      <th>name_0</th>\n",
       "      <th>label</th>\n",
       "      <th>un_region</th>\n",
       "      <th>wb_region</th>\n",
       "    </tr>\n",
       "  </thead>\n",
       "  <tbody>\n",
       "    <tr>\n",
       "      <th>0</th>\n",
       "      <td>ARE</td>\n",
       "      <td>United Arab Emirates</td>\n",
       "      <td>Extremely High (&gt;80%)</td>\n",
       "      <td>Asia</td>\n",
       "      <td>Middle East &amp; North Africa</td>\n",
       "    </tr>\n",
       "    <tr>\n",
       "      <th>1</th>\n",
       "      <td>ARE</td>\n",
       "      <td>United Arab Emirates</td>\n",
       "      <td>Extremely High (&gt;80%)</td>\n",
       "      <td>Asia</td>\n",
       "      <td>Middle East &amp; North Africa</td>\n",
       "    </tr>\n",
       "    <tr>\n",
       "      <th>2</th>\n",
       "      <td>BHR</td>\n",
       "      <td>Bahrain</td>\n",
       "      <td>Extremely High (&gt;80%)</td>\n",
       "      <td>Asia</td>\n",
       "      <td>Middle East &amp; North Africa</td>\n",
       "    </tr>\n",
       "    <tr>\n",
       "      <th>3</th>\n",
       "      <td>BHR</td>\n",
       "      <td>Bahrain</td>\n",
       "      <td>Extremely High (&gt;80%)</td>\n",
       "      <td>Asia</td>\n",
       "      <td>Middle East &amp; North Africa</td>\n",
       "    </tr>\n",
       "    <tr>\n",
       "      <th>4</th>\n",
       "      <td>BHR</td>\n",
       "      <td>Bahrain</td>\n",
       "      <td>Extremely High (&gt;80%)</td>\n",
       "      <td>Asia</td>\n",
       "      <td>Middle East &amp; North Africa</td>\n",
       "    </tr>\n",
       "  </tbody>\n",
       "</table>\n",
       "</div>"
      ],
      "text/plain": [
       "  gid_0                name_0                  label un_region  \\\n",
       "0   ARE  United Arab Emirates  Extremely High (>80%)      Asia   \n",
       "1   ARE  United Arab Emirates  Extremely High (>80%)      Asia   \n",
       "2   BHR               Bahrain  Extremely High (>80%)      Asia   \n",
       "3   BHR               Bahrain  Extremely High (>80%)      Asia   \n",
       "4   BHR               Bahrain  Extremely High (>80%)      Asia   \n",
       "\n",
       "                    wb_region  \n",
       "0  Middle East & North Africa  \n",
       "1  Middle East & North Africa  \n",
       "2  Middle East & North Africa  \n",
       "3  Middle East & North Africa  \n",
       "4  Middle East & North Africa  "
      ]
     },
     "execution_count": 96,
     "metadata": {},
     "output_type": "execute_result"
    }
   ],
   "source": [
    "dataset = dataset_brut.drop(columns=[\"indicator_name\",\"weight\",\"score\",\"score_ranked\",\"cat\"])\n",
    "dataset.head()"
   ]
  },
  {
   "cell_type": "code",
   "execution_count": 97,
   "metadata": {},
   "outputs": [
    {
     "data": {
      "text/html": [
       "<div>\n",
       "<style scoped>\n",
       "    .dataframe tbody tr th:only-of-type {\n",
       "        vertical-align: middle;\n",
       "    }\n",
       "\n",
       "    .dataframe tbody tr th {\n",
       "        vertical-align: top;\n",
       "    }\n",
       "\n",
       "    .dataframe thead th {\n",
       "        text-align: right;\n",
       "    }\n",
       "</style>\n",
       "<table border=\"1\" class=\"dataframe\">\n",
       "  <thead>\n",
       "    <tr style=\"text-align: right;\">\n",
       "      <th></th>\n",
       "      <th>Location_code</th>\n",
       "      <th>Country</th>\n",
       "      <th>Water_lack_risk_level</th>\n",
       "      <th>Continent</th>\n",
       "      <th>World_region</th>\n",
       "    </tr>\n",
       "  </thead>\n",
       "  <tbody>\n",
       "    <tr>\n",
       "      <th>0</th>\n",
       "      <td>ARE</td>\n",
       "      <td>United Arab Emirates</td>\n",
       "      <td>Extremely High (&gt;80%)</td>\n",
       "      <td>Asia</td>\n",
       "      <td>Middle East &amp; North Africa</td>\n",
       "    </tr>\n",
       "    <tr>\n",
       "      <th>1</th>\n",
       "      <td>ARE</td>\n",
       "      <td>United Arab Emirates</td>\n",
       "      <td>Extremely High (&gt;80%)</td>\n",
       "      <td>Asia</td>\n",
       "      <td>Middle East &amp; North Africa</td>\n",
       "    </tr>\n",
       "    <tr>\n",
       "      <th>2</th>\n",
       "      <td>BHR</td>\n",
       "      <td>Bahrain</td>\n",
       "      <td>Extremely High (&gt;80%)</td>\n",
       "      <td>Asia</td>\n",
       "      <td>Middle East &amp; North Africa</td>\n",
       "    </tr>\n",
       "    <tr>\n",
       "      <th>3</th>\n",
       "      <td>BHR</td>\n",
       "      <td>Bahrain</td>\n",
       "      <td>Extremely High (&gt;80%)</td>\n",
       "      <td>Asia</td>\n",
       "      <td>Middle East &amp; North Africa</td>\n",
       "    </tr>\n",
       "    <tr>\n",
       "      <th>4</th>\n",
       "      <td>BHR</td>\n",
       "      <td>Bahrain</td>\n",
       "      <td>Extremely High (&gt;80%)</td>\n",
       "      <td>Asia</td>\n",
       "      <td>Middle East &amp; North Africa</td>\n",
       "    </tr>\n",
       "  </tbody>\n",
       "</table>\n",
       "</div>"
      ],
      "text/plain": [
       "  Location_code               Country  Water_lack_risk_level Continent  \\\n",
       "0           ARE  United Arab Emirates  Extremely High (>80%)      Asia   \n",
       "1           ARE  United Arab Emirates  Extremely High (>80%)      Asia   \n",
       "2           BHR               Bahrain  Extremely High (>80%)      Asia   \n",
       "3           BHR               Bahrain  Extremely High (>80%)      Asia   \n",
       "4           BHR               Bahrain  Extremely High (>80%)      Asia   \n",
       "\n",
       "                 World_region  \n",
       "0  Middle East & North Africa  \n",
       "1  Middle East & North Africa  \n",
       "2  Middle East & North Africa  \n",
       "3  Middle East & North Africa  \n",
       "4  Middle East & North Africa  "
      ]
     },
     "execution_count": 97,
     "metadata": {},
     "output_type": "execute_result"
    }
   ],
   "source": [
    "dataset = dataset.rename(columns={\"gid_0\": \"Location_code\", \"name_0\": \"Country\",  \"label\": \"Water_lack_risk_level\", \"wb_region\": \"World_region\",\"un_region\": \"Continent\"})\n",
    "dataset.head()"
   ]
  },
  {
   "cell_type": "code",
   "execution_count": 98,
   "metadata": {},
   "outputs": [
    {
     "name": "stdout",
     "output_type": "stream",
     "text": [
      "['AFG', 'AGO', 'ALB', 'AND', 'ARE', 'ARG', 'ARM', 'ATG', 'AUS', 'AUT', 'AZE', 'BDI', 'BEL', 'BEN', 'BFA', 'BGD', 'BGR', 'BHR', 'BHS', 'BIH', 'BLR', 'BLZ', 'BOL', 'BRA', 'BRB', 'BRN', 'BTN', 'BWA', 'CAF', 'CAN', 'CHE', 'CHL', 'CHN', 'CIV', 'CMR', 'COD', 'COG', 'COL', 'COM', 'CPV', 'CRI', 'CUB', 'CYP', 'CZE', 'DEU', 'DJI', 'DMA', 'DNK', 'DOM', 'DZA', 'ECU', 'EGY', 'ERI', 'ESP', 'EST', 'ETH', 'FIN', 'FJI', 'FRA', 'FSM', 'GAB', 'GBR', 'GEO', 'GHA', 'GIN', 'GMB', 'GNB', 'GNQ', 'GRC', 'GRD', 'GTM', 'GUY', 'HND', 'HRV', 'HTI', 'HUN', 'IDN', 'IND', 'IRL', 'IRN', 'IRQ', 'ISL', 'ISR', 'ITA', 'JAM', 'JOR', 'JPN', 'KAZ', 'KEN', 'KGZ', 'KHM', 'KIR', 'KNA', 'KOR', 'KWT', 'LAO', 'LBN', 'LBR', 'LBY', 'LCA', 'LIE', 'LKA', 'LSO', 'LTU', 'LUX', 'LVA', 'MAR', 'MCO', 'MDA', 'MDG', 'MEX', 'MHL', 'MKD', 'MLI', 'MLT', 'MMR', 'MNE', 'MNG', 'MOZ', 'MRT', 'MUS', 'MWI', 'MYS', 'NAM', 'NER', 'NGA', 'NIC', 'NLD', 'NOR', 'NPL', 'NRU', 'NZL', 'OMN', 'PAK', 'PAN', 'PER', 'PHL', 'PLW', 'PNG', 'POL', 'PRK', 'PRT', 'PRY', 'QAT', 'ROU', 'RUS', 'RWA', 'SAU', 'SDN', 'SEN', 'SGP', 'SLB', 'SLE', 'SLV', 'SMR', 'SOM', 'SRB', 'SSD', 'STP', 'SUR', 'SVK', 'SVN', 'SWE', 'SWZ', 'SYC', 'SYR', 'TCD', 'TGO', 'THA', 'TJK', 'TKM', 'TLS', 'TON', 'TTO', 'TUN', 'TUR', 'TUV', 'TZA', 'UGA', 'UKR', 'URY', 'USA', 'UZB', 'VCT', 'VEN', 'VNM', 'VUT', 'WSM', 'YEM', 'ZAF', 'ZMB', 'ZWE']\n"
     ]
    }
   ],
   "source": [
    "country_water= dataset['Location_code'].unique()\n",
    "print(sorted(country_water))"
   ]
  },
  {
   "cell_type": "markdown",
   "metadata": {},
   "source": [
    "['AFG', 'AGO', 'ALB', 'AND', 'ARE', 'ARM', 'ATG', 'AUT', 'AZE', 'BDI', 'BEL', 'BEN', 'BFA', 'BGD', 'BGR', 'BHR', 'BHS', 'BIH', 'BLR', 'BLZ', 'BOL',  'BRB', 'BRN', 'BTN', 'BWA', 'CAF', 'CIV', 'CMR', 'COD', 'COG', 'COM', 'CPV', 'CRI', 'CUB', 'CYP', 'CZE', 'DEU', 'DJI', 'DMA', 'DNK', 'DOM', 'DZA', 'ECU', 'ERI', 'ESP', 'EST', 'FIN', 'FJI', 'FRA', 'FSM', 'GAB', 'GEO', 'GHA', 'GIN', 'GMB', 'GNB', 'GNQ', 'GRC', 'GRD', 'GTM', 'GUY', 'HND', 'HRV', 'HTI', 'HUN', 'KEN', 'KGZ', 'KHM', 'KIR', 'KNA', 'KWT', 'LAO', 'LBN', 'LBR', 'LBY', 'LCA', 'LIE', 'LKA', 'LSO', 'LTU', 'LUX', 'LVA', 'MAR', 'MCO', 'MDA', 'MDG', 'NAM', 'NER', 'NGA', 'NIC', 'NLD', 'NPL', 'NRU', 'OMN','PAN','PLW', 'PNG', 'POL', 'PRK', 'PRT', 'QAT', 'ROU', 'RWA','SDN', 'SEN', 'SGP', 'SLB', 'SLE', 'SLV', 'SMR', 'SOM', 'SRB', 'SSD', 'STP', 'SUR', 'SVK', 'SVN', 'SWE', 'SWZ', 'SYC', 'SYR', 'TCD', 'TGO', 'TJK', 'TKM', 'TLS', 'TON', 'TTO', 'TUN',  'TUV', 'TZA', 'UGA', 'URY', 'UZB', 'VCT', 'VEN', 'VUT', 'WSM', 'YEM','ZMB', 'ZWE']"
   ]
  },
  {
   "cell_type": "code",
   "execution_count": 99,
   "metadata": {},
   "outputs": [
    {
     "data": {
      "text/plain": [
       "(455, 5)"
      ]
     },
     "execution_count": 99,
     "metadata": {},
     "output_type": "execute_result"
    }
   ],
   "source": [
    "country_list = ['AFR', 'ARG', 'ASP', 'AUS', 'BRA', 'BRICS', 'CAN', 'CHE', 'CHL', 'CHN', 'COL', 'DVD', 'DVG', 'EGY', 'ETH', 'EUN', 'EUR', 'GBR', 'IDN', 'IND', 'IRN', 'ISR', 'JPN', 'KAZ', 'KOR', 'LAC', 'MEX', 'MYS', 'NGA', 'NOA', 'NOR', 'NZL', 'OCD', 'OECD', 'PAK', 'PER', 'PHL', 'PRY', 'RUS', 'SAU', 'THA', 'TUR', 'UKR', 'USA', 'VNM', 'WLD', 'ZAF']\n",
    "\n",
    "dataset = dataset[dataset['Location_code'].isin(country_list )]\n",
    "dataset.shape"
   ]
  },
  {
   "cell_type": "code",
   "execution_count": 110,
   "metadata": {},
   "outputs": [
    {
     "data": {
      "text/plain": [
       "array(['SAU', 'ISR', 'EGY', 'IRN', 'ZAF', 'CHL', 'MEX', 'VNM', 'UKR',\n",
       "       'IDN', 'PER', 'IND', 'PAK', 'USA', 'THA', 'TUR', 'RUS', 'GBR',\n",
       "       'PHL', 'NGA', 'CHN', 'ETH', 'PRY', 'ARG', 'AUS', 'NOR', 'BRA',\n",
       "       'KAZ', 'MYS', 'KOR', 'NZL', 'JPN', 'CAN', 'CHE', 'COL'],\n",
       "      dtype=object)"
      ]
     },
     "execution_count": 110,
     "metadata": {},
     "output_type": "execute_result"
    }
   ],
   "source": [
    "dataset['Location_code'].unique()\n"
   ]
  },
  {
   "cell_type": "code",
   "execution_count": 113,
   "metadata": {},
   "outputs": [
    {
     "name": "stdout",
     "output_type": "stream",
     "text": [
      "['ARG' 'AUS' 'BRA' 'CAN' 'CHE' 'CHL' 'CHN' 'COL' 'EGY' 'ETH' 'GBR' 'IDN'\n",
      " 'IND' 'IRN' 'ISR' 'JPN' 'KAZ' 'KOR' 'MEX' 'MYS' 'NGA' 'NOR' 'NZL' 'PAK'\n",
      " 'PER' 'PHL' 'PRY' 'RUS' 'SAU' 'THA' 'TUR' 'UKR' 'USA' 'VNM' 'ZAF']\n"
     ]
    }
   ],
   "source": [
    "location = np.unique(dataset['Location_code'])\n",
    "\n",
    "sorted_location = np.sort(location)\n",
    "\n",
    "print(sorted_location)"
   ]
  },
  {
   "cell_type": "code",
   "execution_count": 114,
   "metadata": {},
   "outputs": [
    {
     "data": {
      "text/plain": [
       "<bound method NDFrame.head of      Location_code       Country  Water_lack_risk_level Continent  \\\n",
       "42             SAU  Saudi Arabia  Extremely High (>80%)      Asia   \n",
       "43             SAU  Saudi Arabia  Extremely High (>80%)      Asia   \n",
       "44             SAU  Saudi Arabia  Extremely High (>80%)      Asia   \n",
       "45             ISR        Israel  Extremely High (>80%)      Asia   \n",
       "46             SAU  Saudi Arabia  Extremely High (>80%)      Asia   \n",
       "...            ...           ...                    ...       ...   \n",
       "2236           SAU  Saudi Arabia                 NoData      Asia   \n",
       "2237           SAU  Saudi Arabia                 NoData      Asia   \n",
       "2238           SAU  Saudi Arabia                 NoData      Asia   \n",
       "2239           SAU  Saudi Arabia                 NoData      Asia   \n",
       "2240           SAU  Saudi Arabia                 NoData      Asia   \n",
       "\n",
       "                    World_region  \n",
       "42    Middle East & North Africa  \n",
       "43    Middle East & North Africa  \n",
       "44    Middle East & North Africa  \n",
       "45    Middle East & North Africa  \n",
       "46    Middle East & North Africa  \n",
       "...                          ...  \n",
       "2236  Middle East & North Africa  \n",
       "2237  Middle East & North Africa  \n",
       "2238  Middle East & North Africa  \n",
       "2239  Middle East & North Africa  \n",
       "2240  Middle East & North Africa  \n",
       "\n",
       "[455 rows x 5 columns]>"
      ]
     },
     "execution_count": 114,
     "metadata": {},
     "output_type": "execute_result"
    }
   ],
   "source": [
    "dataset.head"
   ]
  },
  {
   "cell_type": "code",
   "execution_count": null,
   "metadata": {},
   "outputs": [],
   "source": []
  }
 ],
 "metadata": {
  "kernelspec": {
   "display_name": "base",
   "language": "python",
   "name": "python3"
  },
  "language_info": {
   "codemirror_mode": {
    "name": "ipython",
    "version": 3
   },
   "file_extension": ".py",
   "mimetype": "text/x-python",
   "name": "python",
   "nbconvert_exporter": "python",
   "pygments_lexer": "ipython3",
   "version": "3.11.3"
  }
 },
 "nbformat": 4,
 "nbformat_minor": 2
}
